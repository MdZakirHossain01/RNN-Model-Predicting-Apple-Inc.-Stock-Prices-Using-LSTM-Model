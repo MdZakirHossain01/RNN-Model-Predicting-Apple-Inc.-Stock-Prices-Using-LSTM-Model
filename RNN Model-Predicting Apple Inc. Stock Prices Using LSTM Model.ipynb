{
 "cells": [
  {
   "cell_type": "markdown",
   "id": "880a928f",
   "metadata": {},
   "source": [
    "# Predicting Apple Inc. Stock Prices Using LSTM Model\n",
    "\n",
    "Using historical data from 1980 to 2021, I will construct and train an LSTM model for this assignment in order to forecast Apple Inc. stock values for 2021. Because it can identify long-term dependencies in sequential data, the LSTM model, a kind of recurrent neural network (RNN), is a good fit for time series forecasting. Preparing the data, building the model, training, and evaluating the project are some of the tasks involved. In order to evaluate how accurate my predictions were, I will also display the outcomes. In order to assess the model's efficacy and identify areas for improvement, I will lastly expand its use to forecast stock prices for the year 2022."
   ]
  },
  {
   "cell_type": "markdown",
   "id": "403d4a6f",
   "metadata": {},
   "source": [
    "## Problem Statement\n",
    "\n",
    "My goal is to forecast Apple Inc.'s stock price for 2021 based on past data spanning from 1980 to 2021. By using a Long Short-Term Memory (LSTM) model—a kind of recurrent neural network (RNN) renowned for its capacity to identify long-term dependencies in sequential data—this prediction will be realized. I will use metrics like Root Mean Squared Error (RMSE) to gauge how accurate my model is in predicting stock prices, and I will also examine its performance.\n"
   ]
  },
  {
   "cell_type": "markdown",
   "id": "7e490c49",
   "metadata": {},
   "source": [
    "## Algorithm of the Solution\n",
    "\n",
    "1. **Data Preparation**:\n",
    "   - **Loading the Dataset**: Among the columns in the AAPL dataset are Date, Open, High, Low, Close, Adj Close, and Volume. I will load this dataset.\n",
    "   - **Preprocessing**: All data will be in a format that is appropriate for LSTM input, and I will take care of any missing values. This entails transforming time series data into historical observation sequences.\n",
    "\n",
    "2. **Model Building**:\n",
    "   - **LSTM Model Construction**: I will use a deep learning framework like TensorFlow or PyTorch to create an LSTM model architecture. To identify intricate relationships and patterns in the sequential stock price data, I want to stack LSTM layers.\n",
    "   - **Hyperparameter Tuning**: To maximize the performance of my model, I will experiment with various LSTM layer topologies, the number of units per layer, activation functions, dropout rates, and batch sizes.\n",
    "\n",
    "3. **Model Training**:\n",
    "   - **Training Data Split**: I'll divide the dataset into training and testing sets, with training based on historical data spanning from 1980 to 2020.\n",
    "   - **Epochs and Validation**: I'll train the LSTM model across a number of epochs (such as the prescribed 75 epochs), validating on a subset of the training set to keep an eye out for overfitting.\n",
    "\n",
    "4. **Model Evaluation**:\n",
    "   - **Predicting 2021 Prices**: Using the testing set, I will forecast Apple's stock values for 2021 in order to assess the efficacy of my trained LSTM model.\n",
    "   - **RMSE Calculation**: To measure the accuracy of my model's predictions, I will compute the Root Mean Squared Error (RMSE) between the actual and forecast stock prices.\n",
    "\n",
    "5. **Predicting 2022 Prices**:\n",
    "   - Using the knowledge I've gathered from the 2021 projections, I'll expand my trained LSTM model to forecast Apple's stock values for 2022.\n"
   ]
  },
  {
   "cell_type": "markdown",
   "id": "f512f23f",
   "metadata": {},
   "source": [
    "## Dataset Description\n",
    "\n",
    "The dataset used in this project is named AAPL, which contains historical stock prices of Apple Inc. from the year 1980 to 2021. It consists of the following columns:\n",
    "\n",
    "- **Date**: The date of the trading day.\n",
    "- **Open**: The opening price of the stock on that day.\n",
    "- **High**: The highest price reached during the trading day.\n",
    "- **Low**: The lowest price reached during the trading day.\n",
    "- **Close**: The closing price of the stock on that day.\n",
    "- **Adj Close**: The adjusted closing price, which accounts for corporate actions such as dividends and stock splits.\n",
    "- **Volume**: The number of shares traded on that day.\n",
    "\n",
    "### Dataset Loading and Inspection\n",
    "\n",
    "To gain an understanding of the dataset's properties and structure, let's load and examine it first. For data management and visualization, we'll use Python tools like pandas and matplotlib/seaborn.\n",
    "\n"
   ]
  },
  {
   "cell_type": "code",
   "execution_count": 1,
   "id": "db08c32d",
   "metadata": {},
   "outputs": [],
   "source": [
    "# Import necessary libraries\n",
    "import pandas as pd\n",
    "import matplotlib.pyplot as plt\n",
    "import seaborn as sns\n",
    "\n",
    "# Load the AAPL dataset\n",
    "df = pd.read_csv('AAPL.csv')  \n"
   ]
  },
  {
   "cell_type": "markdown",
   "id": "0a3a2656",
   "metadata": {},
   "source": [
    "#### Display the first few rows of the dataset"
   ]
  },
  {
   "cell_type": "markdown",
   "id": "c3b45602",
   "metadata": {},
   "source": [
    "#### Summary statistics of the dataset"
   ]
  },
  {
   "cell_type": "code",
   "execution_count": 3,
   "id": "e68a54c3",
   "metadata": {
    "scrolled": true
   },
   "outputs": [
    {
     "name": "stdout",
     "output_type": "stream",
     "text": [
      "\n",
      "Summary statistics of the dataset:\n",
      "               Open          High           Low         Close     Adj Close  \\\n",
      "count  10468.000000  10468.000000  10468.000000  10468.000000  10468.000000   \n",
      "mean      14.757987     14.921491     14.594484     14.763533     14.130431   \n",
      "std       31.914174     32.289158     31.543959     31.929489     31.637275   \n",
      "min        0.049665      0.049665      0.049107      0.049107      0.038329   \n",
      "25%        0.283482      0.289286      0.276786      0.283482      0.235462   \n",
      "50%        0.474107      0.482768      0.465960      0.475446      0.392373   \n",
      "75%       14.953303     15.057143     14.692589     14.901964     12.835269   \n",
      "max      182.630005    182.940002    179.119995    182.009995    181.511703   \n",
      "\n",
      "             Volume  \n",
      "count  1.046800e+04  \n",
      "mean   3.308489e+08  \n",
      "std    3.388418e+08  \n",
      "min    0.000000e+00  \n",
      "25%    1.237768e+08  \n",
      "50%    2.181592e+08  \n",
      "75%    4.105794e+08  \n",
      "max    7.421641e+09  \n"
     ]
    }
   ],
   "source": [
    "print(\"\\nSummary statistics of the dataset:\")\n",
    "print(df.describe())"
   ]
  },
  {
   "cell_type": "markdown",
   "id": "da4613c3",
   "metadata": {},
   "source": [
    "#### Check for missing values"
   ]
  },
  {
   "cell_type": "code",
   "execution_count": 4,
   "id": "50c738c7",
   "metadata": {},
   "outputs": [
    {
     "name": "stdout",
     "output_type": "stream",
     "text": [
      "\n",
      "Missing values in the dataset:\n",
      "Date         0\n",
      "Open         0\n",
      "High         0\n",
      "Low          0\n",
      "Close        0\n",
      "Adj Close    0\n",
      "Volume       0\n",
      "dtype: int64\n"
     ]
    }
   ],
   "source": [
    "print(\"\\nMissing values in the dataset:\")\n",
    "print(df.isnull().sum())"
   ]
  },
  {
   "cell_type": "markdown",
   "id": "5d37c066",
   "metadata": {},
   "source": [
    "### Loading and Preparing the Dataset\n",
    "I need to load the dataset (AAPL.csv) and prepare it for use with the LSTM model."
   ]
  },
  {
   "cell_type": "code",
   "execution_count": 20,
   "id": "d9da744f",
   "metadata": {},
   "outputs": [
    {
     "name": "stdout",
     "output_type": "stream",
     "text": [
      "         Date      Open      High       Low     Close  Adj Close     Volume\n",
      "0  1980-12-12  0.128348  0.128906  0.128348  0.128348   0.100178  469033600\n",
      "1  1980-12-15  0.122210  0.122210  0.121652  0.121652   0.094952  175884800\n",
      "2  1980-12-16  0.113281  0.113281  0.112723  0.112723   0.087983  105728000\n",
      "3  1980-12-17  0.115513  0.116071  0.115513  0.115513   0.090160   86441600\n",
      "4  1980-12-18  0.118862  0.119420  0.118862  0.118862   0.092774   73449600\n"
     ]
    }
   ],
   "source": [
    "import pandas as pd\n",
    "\n",
    "df = pd.read_csv('AAPL.csv')\n",
    "\n",
    "# Display the first few rows to understand the structure\n",
    "print(df.head())"
   ]
  },
  {
   "cell_type": "markdown",
   "id": "d3e10ad1",
   "metadata": {},
   "source": [
    "### Data Preprocessing and Scaling\n",
    "I preprocess and scale the data using MinMaxScaler from sklearn.preprocessing."
   ]
  },
  {
   "cell_type": "code",
   "execution_count": 21,
   "id": "357974c4",
   "metadata": {},
   "outputs": [],
   "source": [
    "from sklearn.preprocessing import MinMaxScaler\n",
    "\n",
    "# Extract the 'Close' prices and scale the data\n",
    "data = df.filter(['Close']).values\n",
    "\n",
    "scaler = MinMaxScaler(feature_range=(0, 1))\n",
    "scaled_data = scaler.fit_transform(data)\n"
   ]
  },
  {
   "cell_type": "markdown",
   "id": "01493758",
   "metadata": {},
   "source": [
    "I use the **MinMaxScaler}** from **sklearn.preprocessing** to preprocess and scale the data. 'Close' prices are extracted first, and they are then converted into a numpy array. Next, I apply the **MinMaxScaler** to the 'Close' price data after initializing it with a feature range of (0, 1). This guarantees that every 'Close' price is adjusted to lie inside the interval [0, 1], which is essential for LSTM model training. During the training process, normalized data promotes greater performance and quicker convergence.\n"
   ]
  },
  {
   "cell_type": "markdown",
   "id": "eed75cfe",
   "metadata": {},
   "source": [
    "### Prepare Training Data for LSTM\n",
    "Prepare the training data by creating sequences of past data points **(x_train)** and their corresponding next data point **(y_train)**."
   ]
  },
  {
   "cell_type": "code",
   "execution_count": 22,
   "id": "4a707123",
   "metadata": {},
   "outputs": [],
   "source": [
    "import numpy as np\n",
    "\n",
    "# Define the training data length (80% of the total data)\n",
    "training_data_len = int(len(data) * 0.8)\n",
    "\n",
    "# Split the data into train and test sets\n",
    "train_data = scaled_data[:training_data_len, :]\n",
    "\n",
    "# Prepare x_train and y_train\n",
    "x_train, y_train = [], []\n",
    "for i in range(60, len(train_data)):\n",
    "    x_train.append(train_data[i-60:i, 0])\n",
    "    y_train.append(train_data[i, 0])\n",
    "\n",
    "# Convert to numpy arrays\n",
    "x_train, y_train = np.array(x_train), np.array(y_train)\n",
    "\n",
    "# Reshape x_train for LSTM input shape (samples, time steps, features)\n",
    "x_train = np.reshape(x_train, (x_train.shape[0], x_train.shape[1], 1))"
   ]
  },
  {
   "cell_type": "markdown",
   "id": "1e7e01a3",
   "metadata": {},
   "source": [
    "I make sequences of previous data points **(x_train)** and their matching next data point **(y_train)** in order to prepare the training data for the LSTM model. First, I determine that 80% of the total data is the training data length. After that, I divided the data into testing and training sets. I anticipate the following day for **x_train** and **y_train** using a window of 60 past days. Once these sequences are created, I turn them into numpy arrays and then restructure **x_train** to match the **(samples, time steps, features)** LSTM input form.\n"
   ]
  },
  {
   "cell_type": "markdown",
   "id": "f66b6f3e",
   "metadata": {},
   "source": [
    "### Build and Train the LSTM Model\n",
    "Construct the LSTM model using TensorFlow/Keras and train it on the prepared training data."
   ]
  },
  {
   "cell_type": "code",
   "execution_count": null,
   "id": "e555bd33",
   "metadata": {},
   "outputs": [],
   "source": [
    "from tensorflow.keras.models import Sequential\n",
    "from tensorflow.keras.layers import LSTM, Dense, Dropout\n",
    "\n",
    "# Build the LSTM model\n",
    "model = Sequential()\n",
    "model.add(LSTM(units=50, return_sequences=True, input_shape=(x_train.shape[1], 1)))\n",
    "model.add(Dropout(0.2))\n",
    "model.add(LSTM(units=50, return_sequences=False))\n",
    "model.add(Dropout(0.2))\n",
    "model.add(Dense(units=1))\n",
    "\n",
    "# Compile the model\n",
    "model.compile(optimizer='adam', loss='mean_squared_error')"
   ]
  },
  {
   "cell_type": "markdown",
   "id": "aa9ace0e",
   "metadata": {},
   "source": [
    "I utilize TensorFlow/Keras for LSTM model construction and training. To avoid overfitting, I include dropout layers and stack LSTM layers when building the model. The architecture of the model consists of two 50-unit LSTM layers, followed by dropout layers at a 0.2 rate. The last layer, which outputs the anticipated stock price, is a dense layer with one unit. After that, I use the mean squared error loss function and the Adam optimizer to construct the model.\n"
   ]
  },
  {
   "cell_type": "markdown",
   "id": "734fbae4",
   "metadata": {},
   "source": [
    "### Train Model"
   ]
  },
  {
   "cell_type": "code",
   "execution_count": 24,
   "id": "69dc5cd1",
   "metadata": {
    "scrolled": false
   },
   "outputs": [
    {
     "name": "stdout",
     "output_type": "stream",
     "text": [
      "Epoch 1/75\n",
      "\u001b[1m234/234\u001b[0m \u001b[32m━━━━━━━━━━━━━━━━━━━━\u001b[0m\u001b[37m\u001b[0m \u001b[1m29s\u001b[0m 84ms/step - loss: 2.6435e-05 - val_loss: 1.7021e-05\n",
      "Epoch 2/75\n",
      "\u001b[1m234/234\u001b[0m \u001b[32m━━━━━━━━━━━━━━━━━━━━\u001b[0m\u001b[37m\u001b[0m \u001b[1m18s\u001b[0m 75ms/step - loss: 2.6343e-06 - val_loss: 1.8063e-05\n",
      "Epoch 3/75\n",
      "\u001b[1m234/234\u001b[0m \u001b[32m━━━━━━━━━━━━━━━━━━━━\u001b[0m\u001b[37m\u001b[0m \u001b[1m18s\u001b[0m 76ms/step - loss: 2.2241e-06 - val_loss: 1.1634e-05\n",
      "Epoch 4/75\n",
      "\u001b[1m234/234\u001b[0m \u001b[32m━━━━━━━━━━━━━━━━━━━━\u001b[0m\u001b[37m\u001b[0m \u001b[1m17s\u001b[0m 73ms/step - loss: 2.2737e-06 - val_loss: 2.2537e-05\n",
      "Epoch 5/75\n",
      "\u001b[1m234/234\u001b[0m \u001b[32m━━━━━━━━━━━━━━━━━━━━\u001b[0m\u001b[37m\u001b[0m \u001b[1m17s\u001b[0m 73ms/step - loss: 1.8971e-06 - val_loss: 3.3216e-05\n",
      "Epoch 6/75\n",
      "\u001b[1m234/234\u001b[0m \u001b[32m━━━━━━━━━━━━━━━━━━━━\u001b[0m\u001b[37m\u001b[0m \u001b[1m17s\u001b[0m 73ms/step - loss: 1.6307e-06 - val_loss: 2.8840e-05\n",
      "Epoch 7/75\n",
      "\u001b[1m234/234\u001b[0m \u001b[32m━━━━━━━━━━━━━━━━━━━━\u001b[0m\u001b[37m\u001b[0m \u001b[1m17s\u001b[0m 73ms/step - loss: 2.1870e-06 - val_loss: 1.2196e-05\n",
      "Epoch 8/75\n",
      "\u001b[1m234/234\u001b[0m \u001b[32m━━━━━━━━━━━━━━━━━━━━\u001b[0m\u001b[37m\u001b[0m \u001b[1m17s\u001b[0m 73ms/step - loss: 1.6623e-06 - val_loss: 9.9806e-06\n",
      "Epoch 9/75\n",
      "\u001b[1m234/234\u001b[0m \u001b[32m━━━━━━━━━━━━━━━━━━━━\u001b[0m\u001b[37m\u001b[0m \u001b[1m17s\u001b[0m 74ms/step - loss: 2.1975e-06 - val_loss: 5.3114e-05\n",
      "Epoch 10/75\n",
      "\u001b[1m234/234\u001b[0m \u001b[32m━━━━━━━━━━━━━━━━━━━━\u001b[0m\u001b[37m\u001b[0m \u001b[1m17s\u001b[0m 73ms/step - loss: 2.0773e-06 - val_loss: 4.1658e-05\n",
      "Epoch 11/75\n",
      "\u001b[1m234/234\u001b[0m \u001b[32m━━━━━━━━━━━━━━━━━━━━\u001b[0m\u001b[37m\u001b[0m \u001b[1m18s\u001b[0m 75ms/step - loss: 1.8764e-06 - val_loss: 3.8070e-05\n",
      "Epoch 12/75\n",
      "\u001b[1m234/234\u001b[0m \u001b[32m━━━━━━━━━━━━━━━━━━━━\u001b[0m\u001b[37m\u001b[0m \u001b[1m17s\u001b[0m 73ms/step - loss: 1.7661e-06 - val_loss: 1.8030e-05\n",
      "Epoch 13/75\n",
      "\u001b[1m234/234\u001b[0m \u001b[32m━━━━━━━━━━━━━━━━━━━━\u001b[0m\u001b[37m\u001b[0m \u001b[1m18s\u001b[0m 75ms/step - loss: 1.7570e-06 - val_loss: 1.4589e-05\n",
      "Epoch 14/75\n",
      "\u001b[1m234/234\u001b[0m \u001b[32m━━━━━━━━━━━━━━━━━━━━\u001b[0m\u001b[37m\u001b[0m \u001b[1m17s\u001b[0m 74ms/step - loss: 1.8174e-06 - val_loss: 1.0265e-05\n",
      "Epoch 15/75\n",
      "\u001b[1m234/234\u001b[0m \u001b[32m━━━━━━━━━━━━━━━━━━━━\u001b[0m\u001b[37m\u001b[0m \u001b[1m18s\u001b[0m 75ms/step - loss: 1.7620e-06 - val_loss: 2.0818e-05\n",
      "Epoch 16/75\n",
      "\u001b[1m234/234\u001b[0m \u001b[32m━━━━━━━━━━━━━━━━━━━━\u001b[0m\u001b[37m\u001b[0m \u001b[1m17s\u001b[0m 74ms/step - loss: 1.5820e-06 - val_loss: 2.2486e-05\n",
      "Epoch 17/75\n",
      "\u001b[1m234/234\u001b[0m \u001b[32m━━━━━━━━━━━━━━━━━━━━\u001b[0m\u001b[37m\u001b[0m \u001b[1m17s\u001b[0m 72ms/step - loss: 1.5044e-06 - val_loss: 3.8118e-05\n",
      "Epoch 18/75\n",
      "\u001b[1m234/234\u001b[0m \u001b[32m━━━━━━━━━━━━━━━━━━━━\u001b[0m\u001b[37m\u001b[0m \u001b[1m17s\u001b[0m 74ms/step - loss: 2.0720e-06 - val_loss: 1.3792e-05\n",
      "Epoch 19/75\n",
      "\u001b[1m234/234\u001b[0m \u001b[32m━━━━━━━━━━━━━━━━━━━━\u001b[0m\u001b[37m\u001b[0m \u001b[1m17s\u001b[0m 74ms/step - loss: 1.4801e-06 - val_loss: 7.3113e-06\n",
      "Epoch 20/75\n",
      "\u001b[1m234/234\u001b[0m \u001b[32m━━━━━━━━━━━━━━━━━━━━\u001b[0m\u001b[37m\u001b[0m \u001b[1m17s\u001b[0m 73ms/step - loss: 2.1713e-06 - val_loss: 8.4520e-06\n",
      "Epoch 21/75\n",
      "\u001b[1m234/234\u001b[0m \u001b[32m━━━━━━━━━━━━━━━━━━━━\u001b[0m\u001b[37m\u001b[0m \u001b[1m17s\u001b[0m 73ms/step - loss: 1.4038e-06 - val_loss: 2.5961e-05\n",
      "Epoch 22/75\n",
      "\u001b[1m234/234\u001b[0m \u001b[32m━━━━━━━━━━━━━━━━━━━━\u001b[0m\u001b[37m\u001b[0m \u001b[1m17s\u001b[0m 73ms/step - loss: 1.6415e-06 - val_loss: 7.6819e-06\n",
      "Epoch 23/75\n",
      "\u001b[1m234/234\u001b[0m \u001b[32m━━━━━━━━━━━━━━━━━━━━\u001b[0m\u001b[37m\u001b[0m \u001b[1m17s\u001b[0m 74ms/step - loss: 1.6144e-06 - val_loss: 7.1363e-06\n",
      "Epoch 24/75\n",
      "\u001b[1m234/234\u001b[0m \u001b[32m━━━━━━━━━━━━━━━━━━━━\u001b[0m\u001b[37m\u001b[0m \u001b[1m17s\u001b[0m 74ms/step - loss: 1.4440e-06 - val_loss: 7.1777e-06\n",
      "Epoch 25/75\n",
      "\u001b[1m234/234\u001b[0m \u001b[32m━━━━━━━━━━━━━━━━━━━━\u001b[0m\u001b[37m\u001b[0m \u001b[1m18s\u001b[0m 76ms/step - loss: 1.6009e-06 - val_loss: 1.7239e-05\n",
      "Epoch 26/75\n",
      "\u001b[1m234/234\u001b[0m \u001b[32m━━━━━━━━━━━━━━━━━━━━\u001b[0m\u001b[37m\u001b[0m \u001b[1m17s\u001b[0m 74ms/step - loss: 1.4702e-06 - val_loss: 7.1217e-06\n",
      "Epoch 27/75\n",
      "\u001b[1m234/234\u001b[0m \u001b[32m━━━━━━━━━━━━━━━━━━━━\u001b[0m\u001b[37m\u001b[0m \u001b[1m18s\u001b[0m 75ms/step - loss: 1.6184e-06 - val_loss: 7.9012e-06\n",
      "Epoch 28/75\n",
      "\u001b[1m234/234\u001b[0m \u001b[32m━━━━━━━━━━━━━━━━━━━━\u001b[0m\u001b[37m\u001b[0m \u001b[1m17s\u001b[0m 74ms/step - loss: 1.5597e-06 - val_loss: 2.1251e-05\n",
      "Epoch 29/75\n",
      "\u001b[1m234/234\u001b[0m \u001b[32m━━━━━━━━━━━━━━━━━━━━\u001b[0m\u001b[37m\u001b[0m \u001b[1m18s\u001b[0m 76ms/step - loss: 1.5259e-06 - val_loss: 4.0274e-05\n",
      "Epoch 30/75\n",
      "\u001b[1m234/234\u001b[0m \u001b[32m━━━━━━━━━━━━━━━━━━━━\u001b[0m\u001b[37m\u001b[0m \u001b[1m17s\u001b[0m 74ms/step - loss: 1.3702e-06 - val_loss: 1.3252e-05\n",
      "Epoch 31/75\n",
      "\u001b[1m234/234\u001b[0m \u001b[32m━━━━━━━━━━━━━━━━━━━━\u001b[0m\u001b[37m\u001b[0m \u001b[1m17s\u001b[0m 74ms/step - loss: 1.6580e-06 - val_loss: 1.1925e-05\n",
      "Epoch 32/75\n",
      "\u001b[1m234/234\u001b[0m \u001b[32m━━━━━━━━━━━━━━━━━━━━\u001b[0m\u001b[37m\u001b[0m \u001b[1m17s\u001b[0m 74ms/step - loss: 1.4415e-06 - val_loss: 1.8919e-05\n",
      "Epoch 33/75\n",
      "\u001b[1m234/234\u001b[0m \u001b[32m━━━━━━━━━━━━━━━━━━━━\u001b[0m\u001b[37m\u001b[0m \u001b[1m17s\u001b[0m 74ms/step - loss: 1.3450e-06 - val_loss: 1.7134e-05\n",
      "Epoch 34/75\n",
      "\u001b[1m234/234\u001b[0m \u001b[32m━━━━━━━━━━━━━━━━━━━━\u001b[0m\u001b[37m\u001b[0m \u001b[1m17s\u001b[0m 74ms/step - loss: 1.3280e-06 - val_loss: 6.7148e-06\n",
      "Epoch 35/75\n",
      "\u001b[1m234/234\u001b[0m \u001b[32m━━━━━━━━━━━━━━━━━━━━\u001b[0m\u001b[37m\u001b[0m \u001b[1m17s\u001b[0m 74ms/step - loss: 1.3881e-06 - val_loss: 6.8577e-06\n",
      "Epoch 36/75\n",
      "\u001b[1m234/234\u001b[0m \u001b[32m━━━━━━━━━━━━━━━━━━━━\u001b[0m\u001b[37m\u001b[0m \u001b[1m17s\u001b[0m 74ms/step - loss: 1.3550e-06 - val_loss: 3.9775e-05\n",
      "Epoch 37/75\n",
      "\u001b[1m234/234\u001b[0m \u001b[32m━━━━━━━━━━━━━━━━━━━━\u001b[0m\u001b[37m\u001b[0m \u001b[1m17s\u001b[0m 74ms/step - loss: 1.5998e-06 - val_loss: 8.9608e-06\n",
      "Epoch 38/75\n",
      "\u001b[1m234/234\u001b[0m \u001b[32m━━━━━━━━━━━━━━━━━━━━\u001b[0m\u001b[37m\u001b[0m \u001b[1m17s\u001b[0m 74ms/step - loss: 1.3449e-06 - val_loss: 7.9583e-06\n",
      "Epoch 39/75\n",
      "\u001b[1m234/234\u001b[0m \u001b[32m━━━━━━━━━━━━━━━━━━━━\u001b[0m\u001b[37m\u001b[0m \u001b[1m17s\u001b[0m 74ms/step - loss: 1.7814e-06 - val_loss: 1.8011e-05\n",
      "Epoch 40/75\n",
      "\u001b[1m234/234\u001b[0m \u001b[32m━━━━━━━━━━━━━━━━━━━━\u001b[0m\u001b[37m\u001b[0m \u001b[1m17s\u001b[0m 74ms/step - loss: 1.3300e-06 - val_loss: 7.0123e-05\n",
      "Epoch 41/75\n",
      "\u001b[1m234/234\u001b[0m \u001b[32m━━━━━━━━━━━━━━━━━━━━\u001b[0m\u001b[37m\u001b[0m \u001b[1m17s\u001b[0m 73ms/step - loss: 1.8714e-06 - val_loss: 1.2382e-05\n",
      "Epoch 42/75\n",
      "\u001b[1m234/234\u001b[0m \u001b[32m━━━━━━━━━━━━━━━━━━━━\u001b[0m\u001b[37m\u001b[0m \u001b[1m18s\u001b[0m 76ms/step - loss: 1.3909e-06 - val_loss: 1.1519e-05\n",
      "Epoch 43/75\n",
      "\u001b[1m234/234\u001b[0m \u001b[32m━━━━━━━━━━━━━━━━━━━━\u001b[0m\u001b[37m\u001b[0m \u001b[1m18s\u001b[0m 76ms/step - loss: 1.2642e-06 - val_loss: 8.3850e-05\n",
      "Epoch 44/75\n",
      "\u001b[1m234/234\u001b[0m \u001b[32m━━━━━━━━━━━━━━━━━━━━\u001b[0m\u001b[37m\u001b[0m \u001b[1m17s\u001b[0m 73ms/step - loss: 1.4653e-06 - val_loss: 2.0398e-05\n",
      "Epoch 45/75\n",
      "\u001b[1m234/234\u001b[0m \u001b[32m━━━━━━━━━━━━━━━━━━━━\u001b[0m\u001b[37m\u001b[0m \u001b[1m18s\u001b[0m 75ms/step - loss: 1.6235e-06 - val_loss: 6.7347e-06\n",
      "Epoch 46/75\n",
      "\u001b[1m234/234\u001b[0m \u001b[32m━━━━━━━━━━━━━━━━━━━━\u001b[0m\u001b[37m\u001b[0m \u001b[1m17s\u001b[0m 73ms/step - loss: 1.3694e-06 - val_loss: 6.5216e-06\n",
      "Epoch 47/75\n",
      "\u001b[1m234/234\u001b[0m \u001b[32m━━━━━━━━━━━━━━━━━━━━\u001b[0m\u001b[37m\u001b[0m \u001b[1m17s\u001b[0m 73ms/step - loss: 1.3449e-06 - val_loss: 3.6393e-05\n",
      "Epoch 48/75\n",
      "\u001b[1m234/234\u001b[0m \u001b[32m━━━━━━━━━━━━━━━━━━━━\u001b[0m\u001b[37m\u001b[0m \u001b[1m17s\u001b[0m 73ms/step - loss: 1.4081e-06 - val_loss: 8.1947e-06\n",
      "Epoch 49/75\n",
      "\u001b[1m234/234\u001b[0m \u001b[32m━━━━━━━━━━━━━━━━━━━━\u001b[0m\u001b[37m\u001b[0m \u001b[1m17s\u001b[0m 74ms/step - loss: 1.2764e-06 - val_loss: 6.8109e-06\n",
      "Epoch 50/75\n",
      "\u001b[1m234/234\u001b[0m \u001b[32m━━━━━━━━━━━━━━━━━━━━\u001b[0m\u001b[37m\u001b[0m \u001b[1m17s\u001b[0m 73ms/step - loss: 1.6020e-06 - val_loss: 1.3279e-05\n",
      "Epoch 51/75\n",
      "\u001b[1m234/234\u001b[0m \u001b[32m━━━━━━━━━━━━━━━━━━━━\u001b[0m\u001b[37m\u001b[0m \u001b[1m17s\u001b[0m 74ms/step - loss: 1.3413e-06 - val_loss: 1.0875e-05\n",
      "Epoch 52/75\n",
      "\u001b[1m234/234\u001b[0m \u001b[32m━━━━━━━━━━━━━━━━━━━━\u001b[0m\u001b[37m\u001b[0m \u001b[1m17s\u001b[0m 74ms/step - loss: 1.6026e-06 - val_loss: 7.5761e-06\n",
      "Epoch 53/75\n",
      "\u001b[1m234/234\u001b[0m \u001b[32m━━━━━━━━━━━━━━━━━━━━\u001b[0m\u001b[37m\u001b[0m \u001b[1m17s\u001b[0m 74ms/step - loss: 1.2274e-06 - val_loss: 7.9057e-05\n",
      "Epoch 54/75\n",
      "\u001b[1m234/234\u001b[0m \u001b[32m━━━━━━━━━━━━━━━━━━━━\u001b[0m\u001b[37m\u001b[0m \u001b[1m17s\u001b[0m 74ms/step - loss: 1.5540e-06 - val_loss: 6.5993e-06\n",
      "Epoch 55/75\n",
      "\u001b[1m234/234\u001b[0m \u001b[32m━━━━━━━━━━━━━━━━━━━━\u001b[0m\u001b[37m\u001b[0m \u001b[1m17s\u001b[0m 72ms/step - loss: 1.1946e-06 - val_loss: 3.9966e-05\n",
      "Epoch 56/75\n",
      "\u001b[1m234/234\u001b[0m \u001b[32m━━━━━━━━━━━━━━━━━━━━\u001b[0m\u001b[37m\u001b[0m \u001b[1m17s\u001b[0m 74ms/step - loss: 1.4019e-06 - val_loss: 6.6301e-06\n",
      "Epoch 57/75\n",
      "\u001b[1m234/234\u001b[0m \u001b[32m━━━━━━━━━━━━━━━━━━━━\u001b[0m\u001b[37m\u001b[0m \u001b[1m17s\u001b[0m 73ms/step - loss: 1.2956e-06 - val_loss: 2.9131e-05\n",
      "Epoch 58/75\n",
      "\u001b[1m234/234\u001b[0m \u001b[32m━━━━━━━━━━━━━━━━━━━━\u001b[0m\u001b[37m\u001b[0m \u001b[1m17s\u001b[0m 72ms/step - loss: 1.2450e-06 - val_loss: 1.3120e-05\n",
      "Epoch 59/75\n",
      "\u001b[1m234/234\u001b[0m \u001b[32m━━━━━━━━━━━━━━━━━━━━\u001b[0m\u001b[37m\u001b[0m \u001b[1m17s\u001b[0m 73ms/step - loss: 1.5184e-06 - val_loss: 1.2064e-05\n",
      "Epoch 60/75\n",
      "\u001b[1m234/234\u001b[0m \u001b[32m━━━━━━━━━━━━━━━━━━━━\u001b[0m\u001b[37m\u001b[0m \u001b[1m17s\u001b[0m 74ms/step - loss: 1.2307e-06 - val_loss: 6.5728e-06\n",
      "Epoch 61/75\n",
      "\u001b[1m234/234\u001b[0m \u001b[32m━━━━━━━━━━━━━━━━━━━━\u001b[0m\u001b[37m\u001b[0m \u001b[1m17s\u001b[0m 74ms/step - loss: 1.6084e-06 - val_loss: 1.5964e-05\n",
      "Epoch 62/75\n",
      "\u001b[1m234/234\u001b[0m \u001b[32m━━━━━━━━━━━━━━━━━━━━\u001b[0m\u001b[37m\u001b[0m \u001b[1m17s\u001b[0m 72ms/step - loss: 1.3263e-06 - val_loss: 6.3841e-06\n",
      "Epoch 63/75\n"
     ]
    },
    {
     "name": "stdout",
     "output_type": "stream",
     "text": [
      "\u001b[1m234/234\u001b[0m \u001b[32m━━━━━━━━━━━━━━━━━━━━\u001b[0m\u001b[37m\u001b[0m \u001b[1m17s\u001b[0m 73ms/step - loss: 1.1868e-06 - val_loss: 7.3836e-06\n",
      "Epoch 64/75\n",
      "\u001b[1m234/234\u001b[0m \u001b[32m━━━━━━━━━━━━━━━━━━━━\u001b[0m\u001b[37m\u001b[0m \u001b[1m17s\u001b[0m 73ms/step - loss: 1.4272e-06 - val_loss: 6.2305e-06\n",
      "Epoch 65/75\n",
      "\u001b[1m234/234\u001b[0m \u001b[32m━━━━━━━━━━━━━━━━━━━━\u001b[0m\u001b[37m\u001b[0m \u001b[1m17s\u001b[0m 74ms/step - loss: 1.1998e-06 - val_loss: 1.4696e-05\n",
      "Epoch 66/75\n",
      "\u001b[1m234/234\u001b[0m \u001b[32m━━━━━━━━━━━━━━━━━━━━\u001b[0m\u001b[37m\u001b[0m \u001b[1m17s\u001b[0m 74ms/step - loss: 1.3954e-06 - val_loss: 1.6057e-05\n",
      "Epoch 67/75\n",
      "\u001b[1m234/234\u001b[0m \u001b[32m━━━━━━━━━━━━━━━━━━━━\u001b[0m\u001b[37m\u001b[0m \u001b[1m17s\u001b[0m 73ms/step - loss: 1.1945e-06 - val_loss: 7.5856e-06\n",
      "Epoch 68/75\n",
      "\u001b[1m234/234\u001b[0m \u001b[32m━━━━━━━━━━━━━━━━━━━━\u001b[0m\u001b[37m\u001b[0m \u001b[1m17s\u001b[0m 72ms/step - loss: 1.4801e-06 - val_loss: 1.0127e-05\n",
      "Epoch 69/75\n",
      "\u001b[1m234/234\u001b[0m \u001b[32m━━━━━━━━━━━━━━━━━━━━\u001b[0m\u001b[37m\u001b[0m \u001b[1m17s\u001b[0m 74ms/step - loss: 1.4845e-06 - val_loss: 1.6625e-05\n",
      "Epoch 70/75\n",
      "\u001b[1m234/234\u001b[0m \u001b[32m━━━━━━━━━━━━━━━━━━━━\u001b[0m\u001b[37m\u001b[0m \u001b[1m18s\u001b[0m 75ms/step - loss: 1.8369e-06 - val_loss: 6.0456e-06\n",
      "Epoch 71/75\n",
      "\u001b[1m234/234\u001b[0m \u001b[32m━━━━━━━━━━━━━━━━━━━━\u001b[0m\u001b[37m\u001b[0m \u001b[1m17s\u001b[0m 73ms/step - loss: 1.3922e-06 - val_loss: 6.5404e-06\n",
      "Epoch 72/75\n",
      "\u001b[1m234/234\u001b[0m \u001b[32m━━━━━━━━━━━━━━━━━━━━\u001b[0m\u001b[37m\u001b[0m \u001b[1m17s\u001b[0m 74ms/step - loss: 1.2696e-06 - val_loss: 9.6009e-06\n",
      "Epoch 73/75\n",
      "\u001b[1m234/234\u001b[0m \u001b[32m━━━━━━━━━━━━━━━━━━━━\u001b[0m\u001b[37m\u001b[0m \u001b[1m17s\u001b[0m 74ms/step - loss: 1.2404e-06 - val_loss: 9.1341e-06\n",
      "Epoch 74/75\n",
      "\u001b[1m234/234\u001b[0m \u001b[32m━━━━━━━━━━━━━━━━━━━━\u001b[0m\u001b[37m\u001b[0m \u001b[1m18s\u001b[0m 76ms/step - loss: 1.2656e-06 - val_loss: 9.5272e-06\n",
      "Epoch 75/75\n",
      "\u001b[1m234/234\u001b[0m \u001b[32m━━━━━━━━━━━━━━━━━━━━\u001b[0m\u001b[37m\u001b[0m \u001b[1m17s\u001b[0m 74ms/step - loss: 1.2814e-06 - val_loss: 9.2320e-06\n"
     ]
    }
   ],
   "source": [
    "# Train the model\n",
    "history = model.fit(x_train, y_train, epochs=75, batch_size=32, validation_split=0.1)"
   ]
  },
  {
   "cell_type": "markdown",
   "id": "c31369df",
   "metadata": {},
   "source": [
    "I made the LSTM model using TensorFlow/Keras and trained it. To avoid overfitting, I added dropout layers and stacked LSTM layers when building the model. The architecture of the model consists of two 50-unit LSTM layers, followed by dropout layers at a 0.2 rate. The last layer, which outputs the anticipated stock price, is a dense layer with one unit. After that, I used the mean squared error loss function and the Adam optimizer to construct the model.\n",
    "\n",
    "I then used the ready-made training data to train the model for 75 epochs at a batch size of 32. In order to keep an eye on the model's performance on a subset of the training data and avoid overfitting, a validation split of 0.1 was incorporated into the training process. The model's training and validation losses dropped during the course of the epochs, suggesting that it was picking up accurate stock price prediction skills. A few of the loss values for the chosen epochs are shown below:\n",
    "\n",
    "\n",
    "- Epoch 1/75: Loss: 2.6435e-05 - Val Loss: 1.7021e-05\n",
    "- Epoch 10/75: Loss: 2.0773e-06 - Val Loss: 4.1658e-05\n",
    "- Epoch 20/75: Loss: 2.1713e-06 - Val Loss: 8.4520e-06\n",
    "- Epoch 30/75: Loss: 1.3702e-06 - Val Loss: 1.3252e-05\n",
    "- Epoch 40/75: Loss: 1.3300e-06 - Val Loss: 7.0123e-05\n",
    "- Epoch 50/75: Loss: 1.6020e-06 - Val Loss: 1.3279e-05\n",
    "- Epoch 60/75: Loss: 1.2307e-06 - Val Loss: 6.5728e-06\n",
    "- Epoch 70/75: Loss: 1.8369e-06 - Val Loss: 6.0456e-06\n",
    "- Epoch 75/75: Loss: 1.2814e-06 - Val Loss: 9.2320e-06\n"
   ]
  },
  {
   "cell_type": "markdown",
   "id": "6fb9464b",
   "metadata": {},
   "source": [
    "### Prepare Test Data for 2021 Predictions\n",
    "Prepare the test data specifically for predicting Apple's stock prices in 2021."
   ]
  },
  {
   "cell_type": "code",
   "execution_count": 25,
   "id": "e08fc444",
   "metadata": {},
   "outputs": [],
   "source": [
    "# Prepare test data for 2021\n",
    "test_data = scaled_data[training_data_len - 60:, :]\n",
    "x_test = []\n",
    "for i in range(60, len(test_data)):\n",
    "    x_test.append(test_data[i-60:i, 0])\n",
    "\n",
    "# Convert to numpy array and reshape for LSTM input\n",
    "x_test = np.array(x_test)\n",
    "x_test = np.reshape(x_test, (x_test.shape[0], x_test.shape[1], 1))"
   ]
  },
  {
   "cell_type": "markdown",
   "id": "973b482f",
   "metadata": {},
   "source": [
    "I produced the test data particularly for projecting Apple's stock values in 2021 in order to assess the model's effectiveness. To build sequences for the test data, I buffered the final sixty days of the training set. This guarantees that there are sixty historical data points at the beginning of every prediction sequence.\n",
    "\n",
    "I extracted the relevant portion of the scaled dataset, which includes the last 60 days of the training data and the entire 2021 data. I then created sequences of 60 data points each to use as input for the LSTM model. These sequences were converted into numpy arrays and reshaped to fit the LSTM input requirements, which are samples, time steps, and features."
   ]
  },
  {
   "cell_type": "markdown",
   "id": "11af481f",
   "metadata": {},
   "source": [
    "### Make Predictions for 2021\n",
    "Use the trained LSTM model to make predictions for Apple's stock prices in 2021."
   ]
  },
  {
   "cell_type": "code",
   "execution_count": 26,
   "id": "0baa27c8",
   "metadata": {},
   "outputs": [
    {
     "name": "stdout",
     "output_type": "stream",
     "text": [
      "\u001b[1m66/66\u001b[0m \u001b[32m━━━━━━━━━━━━━━━━━━━━\u001b[0m\u001b[37m\u001b[0m \u001b[1m3s\u001b[0m 39ms/step\n"
     ]
    }
   ],
   "source": [
    "# Make predictions for 2021\n",
    "predictions = model.predict(x_test)\n",
    "\n",
    "# Inverse transform the predictions to get actual prices\n",
    "predictions = scaler.inverse_transform(predictions)\n"
   ]
  },
  {
   "cell_type": "markdown",
   "id": "ad4a7e90",
   "metadata": {},
   "source": [
    "I projected Apple's stock price for 2021 using the trained LSTM model. I created forecasts for every day of the year by feeding the algorithm with the supplied test data. \n",
    "\n",
    "I inversely converted the scaled projections back to their initial scale in order to understand these forecasts in relation to real stock values. A direct comparison between anticipated and actual closing prices is made possible by this conversion.\n",
    "\n",
    "The test data was effectively processed by the model, which produced accurate predictions."
   ]
  },
  {
   "cell_type": "markdown",
   "id": "f57179a0",
   "metadata": {},
   "source": [
    "### Visualize the Predictions\n",
    "Finally, visualize the actual and predicted stock prices for 2021."
   ]
  },
  {
   "cell_type": "code",
   "execution_count": 33,
   "id": "9b4db98b",
   "metadata": {
    "scrolled": true
   },
   "outputs": [
    {
     "data": {
      "image/png": "[encoded data removed]",
      "text/plain": [
       "<Figure size 1600x800 with 1 Axes>"
      ]
     },
     "metadata": {},
     "output_type": "display_data"
    }
   ],
   "source": [
    "import pandas as pd\n",
    "import matplotlib.pyplot as plt\n",
    "\n",
    "\n",
    "# Define train and valid as DataFrames\n",
    "train = df[:training_data_len].copy()\n",
    "valid = df[training_data_len:].copy()\n",
    "\n",
    "# Add predictions to valid DataFrame\n",
    "valid['Predictions'] = predictions\n",
    "\n",
    "# Plotting the results\n",
    "plt.figure(figsize=(16, 8))\n",
    "plt.title('LSTM Model for Apple Inc. Stock Price Prediction (2021)')\n",
    "plt.xlabel('Date')\n",
    "plt.ylabel('Closing Price (USD)')\n",
    "plt.plot(train['Close'], label='Training Data')\n",
    "plt.plot(valid['Close'], label='Actual Prices')\n",
    "plt.plot(valid['Predictions'], label='Predicted Prices')\n",
    "plt.legend(loc='upper left')\n",
    "plt.show()\n"
   ]
  },
  {
   "cell_type": "markdown",
   "id": "649fb991",
   "metadata": {},
   "source": [
    "I concluded by visualizing the 2021 stock prices, both current and projected. I could add the generated predictions to the validation set by defining the training and validation sets from the original DataFrame. \n",
    "\n",
    "I plotted the results to compare the training data, actual prices, and forecasted prices visually using Matplotlib. This graphic aids in comprehending how well the LSTM model performs and how accurate it is in forecasting the stock price of Apple Inc.\n",
    "\n",
    "How well the model's forecasts match the actual closing prices for the year 2021 is clearly shown in the plot."
   ]
  },
  {
   "cell_type": "markdown",
   "id": "6388e6d4",
   "metadata": {},
   "source": [
    "### LSTM Model Evaluation\n",
    "\n",
    "### Root Mean Squared Error (RMSE) Evaluation\n",
    "\n",
    "To evaluate my LSTM model for predicting Apple Inc.'s stock prices in 2021, I need to calculate the Root Mean Squared Error (RMSE) between the actual closing prices and my predicted prices. Here’s how I proceed to calculate RMSE:"
   ]
  },
  {
   "cell_type": "code",
   "execution_count": 34,
   "id": "531f15ed",
   "metadata": {},
   "outputs": [
    {
     "name": "stdout",
     "output_type": "stream",
     "text": [
      "Root Mean Squared Error (RMSE): 15.887236153566688\n"
     ]
    }
   ],
   "source": [
    "from sklearn.metrics import mean_squared_error\n",
    "import math\n",
    "\n",
    "# Get the root mean squared error (RMSE)\n",
    "rmse = math.sqrt(mean_squared_error(valid['Close'], valid['Predictions']))\n",
    "print(f'Root Mean Squared Error (RMSE): {rmse}')"
   ]
  },
  {
   "cell_type": "markdown",
   "id": "de149e33",
   "metadata": {},
   "source": [
    "My LSTM model predicts Apple Inc.'s stock prices with an average error of about $15.89, according to the RMSE figure I calculated (RMSE = 15.8872). This statistic is used to quantify accuracy; lower RMSE values indicate higher prediction precision.\n",
    "\n",
    "#### In practical terms:\n",
    "\n",
    "Better performance and accuracy would be indicated by a smaller RMSE, which would suggest that my model's forecasts closely match real stock prices.\n",
    "On the other hand, a greater RMSE, such as 15.8872, indicates that there may be a significant discrepancy between my estimated and actual pricing, pointing out regions that may require additional model optimization or data modifications.\n",
    "I'll continue to look for ways to improve my LSTM model, such as adjusting parameters, expanding the dataset, or looking into different model designs. The goal of this iterative procedure is to increase the predictability and accuracy of financial forecasting scenarios.."
   ]
  },
  {
   "cell_type": "markdown",
   "id": "757ef5f3",
   "metadata": {},
   "source": [
    "### To improve my model:\n",
    "\n",
    "**Increase Model Complexity:** I could try an LSTM architecture that is wider or deeper. This could make it possible for my algorithm to identify more complex patterns in the data on Apple Inc. stock prices, which could result in more precise forecasts.\n",
    "\n",
    "**Adjust Training Parameters:** Optimizing model performance may involve fine-tuning hyperparameters such batch size, dropout rates, and epoch count. Achieving the ideal balance in this situation is essential to increasing generality and accuracy.\n",
    "\n",
    "**Feature Engineering:** My LSTM model's predictive ability might be improved by adding more pertinent data, like trade volume or outside market indicators. More context for forecasting changes in stock prices may be provided by these new insights.\n",
    "\n",
    "**Regularization:** Overfitting may be avoided by using regularization strategies like dropout or L2 regularization. This is particularly crucial if, during validation, my model functions well with training data but poorly with fresh, untested data.\n",
    "\n",
    "**Model Ensemble:** Prediction accuracy could be increased by combining predictions from different LSTM models or other model types (such as CNN-LSTM hybrids), which would take use of their varied strengths.\n",
    "\n",
    "Through RMSE analysis and the consideration of these development tactics, my goal is to iteratively increase the accuracy and dependability of my LSTM model in predicting Apple Inc. stock prices.\n"
   ]
  },
  {
   "cell_type": "markdown",
   "id": "66b23fea",
   "metadata": {},
   "source": [
    "## Building and Training the LSTM Model For 2022\n"
   ]
  },
  {
   "cell_type": "code",
   "execution_count": 56,
   "id": "0e6c9cd4",
   "metadata": {
    "scrolled": true
   },
   "outputs": [
    {
     "name": "stderr",
     "output_type": "stream",
     "text": [
      "C:\\Users\\ASHIK\\anaconda3\\Lib\\site-packages\\keras\\src\\layers\\rnn\\rnn.py:204: UserWarning: Do not pass an `input_shape`/`input_dim` argument to a layer. When using Sequential models, prefer using an `Input(shape)` object as the first layer in the model instead.\n",
      "  super().__init__(**kwargs)\n"
     ]
    },
    {
     "name": "stdout",
     "output_type": "stream",
     "text": [
      "Epoch 1/75\n",
      "\u001b[1m322/322\u001b[0m \u001b[32m━━━━━━━━━━━━━━━━━━━━\u001b[0m\u001b[37m\u001b[0m \u001b[1m32s\u001b[0m 71ms/step - loss: 0.0028\n",
      "Epoch 2/75\n",
      "\u001b[1m322/322\u001b[0m \u001b[32m━━━━━━━━━━━━━━━━━━━━\u001b[0m\u001b[37m\u001b[0m \u001b[1m23s\u001b[0m 71ms/step - loss: 4.0024e-04\n",
      "Epoch 3/75\n",
      "\u001b[1m322/322\u001b[0m \u001b[32m━━━━━━━━━━━━━━━━━━━━\u001b[0m\u001b[37m\u001b[0m \u001b[1m23s\u001b[0m 72ms/step - loss: 2.9916e-04\n",
      "Epoch 4/75\n",
      "\u001b[1m322/322\u001b[0m \u001b[32m━━━━━━━━━━━━━━━━━━━━\u001b[0m\u001b[37m\u001b[0m \u001b[1m23s\u001b[0m 72ms/step - loss: 4.0286e-04\n",
      "Epoch 5/75\n",
      "\u001b[1m322/322\u001b[0m \u001b[32m━━━━━━━━━━━━━━━━━━━━\u001b[0m\u001b[37m\u001b[0m \u001b[1m22s\u001b[0m 70ms/step - loss: 3.0424e-04\n",
      "Epoch 6/75\n",
      "\u001b[1m322/322\u001b[0m \u001b[32m━━━━━━━━━━━━━━━━━━━━\u001b[0m\u001b[37m\u001b[0m \u001b[1m23s\u001b[0m 70ms/step - loss: 2.6137e-04\n",
      "Epoch 7/75\n",
      "\u001b[1m322/322\u001b[0m \u001b[32m━━━━━━━━━━━━━━━━━━━━\u001b[0m\u001b[37m\u001b[0m \u001b[1m23s\u001b[0m 70ms/step - loss: 2.3285e-04\n",
      "Epoch 8/75\n",
      "\u001b[1m322/322\u001b[0m \u001b[32m━━━━━━━━━━━━━━━━━━━━\u001b[0m\u001b[37m\u001b[0m \u001b[1m24s\u001b[0m 74ms/step - loss: 2.6023e-04\n",
      "Epoch 9/75\n",
      "\u001b[1m322/322\u001b[0m \u001b[32m━━━━━━━━━━━━━━━━━━━━\u001b[0m\u001b[37m\u001b[0m \u001b[1m22s\u001b[0m 70ms/step - loss: 2.7900e-04\n",
      "Epoch 10/75\n",
      "\u001b[1m322/322\u001b[0m \u001b[32m━━━━━━━━━━━━━━━━━━━━\u001b[0m\u001b[37m\u001b[0m \u001b[1m22s\u001b[0m 69ms/step - loss: 2.4696e-04\n",
      "Epoch 11/75\n",
      "\u001b[1m322/322\u001b[0m \u001b[32m━━━━━━━━━━━━━━━━━━━━\u001b[0m\u001b[37m\u001b[0m \u001b[1m23s\u001b[0m 70ms/step - loss: 2.6059e-04\n",
      "Epoch 12/75\n",
      "\u001b[1m322/322\u001b[0m \u001b[32m━━━━━━━━━━━━━━━━━━━━\u001b[0m\u001b[37m\u001b[0m \u001b[1m22s\u001b[0m 69ms/step - loss: 2.4299e-04\n",
      "Epoch 13/75\n",
      "\u001b[1m322/322\u001b[0m \u001b[32m━━━━━━━━━━━━━━━━━━━━\u001b[0m\u001b[37m\u001b[0m \u001b[1m22s\u001b[0m 69ms/step - loss: 2.6508e-04\n",
      "Epoch 14/75\n",
      "\u001b[1m322/322\u001b[0m \u001b[32m━━━━━━━━━━━━━━━━━━━━\u001b[0m\u001b[37m\u001b[0m \u001b[1m23s\u001b[0m 70ms/step - loss: 2.2423e-04\n",
      "Epoch 15/75\n",
      "\u001b[1m322/322\u001b[0m \u001b[32m━━━━━━━━━━━━━━━━━━━━\u001b[0m\u001b[37m\u001b[0m \u001b[1m22s\u001b[0m 70ms/step - loss: 2.5110e-04\n",
      "Epoch 16/75\n",
      "\u001b[1m322/322\u001b[0m \u001b[32m━━━━━━━━━━━━━━━━━━━━\u001b[0m\u001b[37m\u001b[0m \u001b[1m23s\u001b[0m 72ms/step - loss: 2.6152e-04\n",
      "Epoch 17/75\n",
      "\u001b[1m322/322\u001b[0m \u001b[32m━━━━━━━━━━━━━━━━━━━━\u001b[0m\u001b[37m\u001b[0m \u001b[1m23s\u001b[0m 72ms/step - loss: 2.3196e-04\n",
      "Epoch 18/75\n",
      "\u001b[1m322/322\u001b[0m \u001b[32m━━━━━━━━━━━━━━━━━━━━\u001b[0m\u001b[37m\u001b[0m \u001b[1m23s\u001b[0m 70ms/step - loss: 2.4331e-04\n",
      "Epoch 19/75\n",
      "\u001b[1m322/322\u001b[0m \u001b[32m━━━━━━━━━━━━━━━━━━━━\u001b[0m\u001b[37m\u001b[0m \u001b[1m23s\u001b[0m 72ms/step - loss: 2.1016e-04\n",
      "Epoch 20/75\n",
      "\u001b[1m322/322\u001b[0m \u001b[32m━━━━━━━━━━━━━━━━━━━━\u001b[0m\u001b[37m\u001b[0m \u001b[1m23s\u001b[0m 70ms/step - loss: 3.0083e-04\n",
      "Epoch 21/75\n",
      "\u001b[1m322/322\u001b[0m \u001b[32m━━━━━━━━━━━━━━━━━━━━\u001b[0m\u001b[37m\u001b[0m \u001b[1m23s\u001b[0m 70ms/step - loss: 2.0042e-04\n",
      "Epoch 22/75\n",
      "\u001b[1m322/322\u001b[0m \u001b[32m━━━━━━━━━━━━━━━━━━━━\u001b[0m\u001b[37m\u001b[0m \u001b[1m23s\u001b[0m 72ms/step - loss: 2.1125e-04\n",
      "Epoch 23/75\n",
      "\u001b[1m322/322\u001b[0m \u001b[32m━━━━━━━━━━━━━━━━━━━━\u001b[0m\u001b[37m\u001b[0m \u001b[1m23s\u001b[0m 70ms/step - loss: 2.3339e-04\n",
      "Epoch 24/75\n",
      "\u001b[1m322/322\u001b[0m \u001b[32m━━━━━━━━━━━━━━━━━━━━\u001b[0m\u001b[37m\u001b[0m \u001b[1m22s\u001b[0m 69ms/step - loss: 2.6987e-04\n",
      "Epoch 25/75\n",
      "\u001b[1m322/322\u001b[0m \u001b[32m━━━━━━━━━━━━━━━━━━━━\u001b[0m\u001b[37m\u001b[0m \u001b[1m22s\u001b[0m 70ms/step - loss: 2.2437e-04\n",
      "Epoch 26/75\n",
      "\u001b[1m322/322\u001b[0m \u001b[32m━━━━━━━━━━━━━━━━━━━━\u001b[0m\u001b[37m\u001b[0m \u001b[1m23s\u001b[0m 70ms/step - loss: 2.2638e-04\n",
      "Epoch 27/75\n",
      "\u001b[1m322/322\u001b[0m \u001b[32m━━━━━━━━━━━━━━━━━━━━\u001b[0m\u001b[37m\u001b[0m \u001b[1m23s\u001b[0m 70ms/step - loss: 2.5459e-04\n",
      "Epoch 28/75\n",
      "\u001b[1m322/322\u001b[0m \u001b[32m━━━━━━━━━━━━━━━━━━━━\u001b[0m\u001b[37m\u001b[0m \u001b[1m23s\u001b[0m 70ms/step - loss: 2.2162e-04\n",
      "Epoch 29/75\n",
      "\u001b[1m322/322\u001b[0m \u001b[32m━━━━━━━━━━━━━━━━━━━━\u001b[0m\u001b[37m\u001b[0m \u001b[1m23s\u001b[0m 72ms/step - loss: 2.1498e-04\n",
      "Epoch 30/75\n",
      "\u001b[1m322/322\u001b[0m \u001b[32m━━━━━━━━━━━━━━━━━━━━\u001b[0m\u001b[37m\u001b[0m \u001b[1m22s\u001b[0m 70ms/step - loss: 1.9996e-04\n",
      "Epoch 31/75\n",
      "\u001b[1m322/322\u001b[0m \u001b[32m━━━━━━━━━━━━━━━━━━━━\u001b[0m\u001b[37m\u001b[0m \u001b[1m23s\u001b[0m 72ms/step - loss: 1.9572e-04\n",
      "Epoch 32/75\n",
      "\u001b[1m322/322\u001b[0m \u001b[32m━━━━━━━━━━━━━━━━━━━━\u001b[0m\u001b[37m\u001b[0m \u001b[1m22s\u001b[0m 69ms/step - loss: 2.3030e-04\n",
      "Epoch 33/75\n",
      "\u001b[1m322/322\u001b[0m \u001b[32m━━━━━━━━━━━━━━━━━━━━\u001b[0m\u001b[37m\u001b[0m \u001b[1m23s\u001b[0m 70ms/step - loss: 2.0725e-04\n",
      "Epoch 34/75\n",
      "\u001b[1m322/322\u001b[0m \u001b[32m━━━━━━━━━━━━━━━━━━━━\u001b[0m\u001b[37m\u001b[0m \u001b[1m22s\u001b[0m 69ms/step - loss: 2.5575e-04\n",
      "Epoch 35/75\n",
      "\u001b[1m322/322\u001b[0m \u001b[32m━━━━━━━━━━━━━━━━━━━━\u001b[0m\u001b[37m\u001b[0m \u001b[1m23s\u001b[0m 70ms/step - loss: 1.9809e-04\n",
      "Epoch 36/75\n",
      "\u001b[1m322/322\u001b[0m \u001b[32m━━━━━━━━━━━━━━━━━━━━\u001b[0m\u001b[37m\u001b[0m \u001b[1m23s\u001b[0m 72ms/step - loss: 2.5043e-04\n",
      "Epoch 37/75\n",
      "\u001b[1m322/322\u001b[0m \u001b[32m━━━━━━━━━━━━━━━━━━━━\u001b[0m\u001b[37m\u001b[0m \u001b[1m23s\u001b[0m 71ms/step - loss: 2.1801e-04\n",
      "Epoch 38/75\n",
      "\u001b[1m322/322\u001b[0m \u001b[32m━━━━━━━━━━━━━━━━━━━━\u001b[0m\u001b[37m\u001b[0m \u001b[1m22s\u001b[0m 70ms/step - loss: 2.1730e-04\n",
      "Epoch 39/75\n",
      "\u001b[1m322/322\u001b[0m \u001b[32m━━━━━━━━━━━━━━━━━━━━\u001b[0m\u001b[37m\u001b[0m \u001b[1m22s\u001b[0m 69ms/step - loss: 2.2006e-04\n",
      "Epoch 40/75\n",
      "\u001b[1m322/322\u001b[0m \u001b[32m━━━━━━━━━━━━━━━━━━━━\u001b[0m\u001b[37m\u001b[0m \u001b[1m23s\u001b[0m 70ms/step - loss: 2.0197e-04\n",
      "Epoch 41/75\n",
      "\u001b[1m322/322\u001b[0m \u001b[32m━━━━━━━━━━━━━━━━━━━━\u001b[0m\u001b[37m\u001b[0m \u001b[1m22s\u001b[0m 69ms/step - loss: 2.0506e-04\n",
      "Epoch 42/75\n",
      "\u001b[1m322/322\u001b[0m \u001b[32m━━━━━━━━━━━━━━━━━━━━\u001b[0m\u001b[37m\u001b[0m \u001b[1m23s\u001b[0m 71ms/step - loss: 2.1699e-04\n",
      "Epoch 43/75\n",
      "\u001b[1m322/322\u001b[0m \u001b[32m━━━━━━━━━━━━━━━━━━━━\u001b[0m\u001b[37m\u001b[0m \u001b[1m22s\u001b[0m 70ms/step - loss: 2.2444e-04\n",
      "Epoch 44/75\n",
      "\u001b[1m322/322\u001b[0m \u001b[32m━━━━━━━━━━━━━━━━━━━━\u001b[0m\u001b[37m\u001b[0m \u001b[1m22s\u001b[0m 69ms/step - loss: 1.7904e-04\n",
      "Epoch 45/75\n",
      "\u001b[1m322/322\u001b[0m \u001b[32m━━━━━━━━━━━━━━━━━━━━\u001b[0m\u001b[37m\u001b[0m \u001b[1m22s\u001b[0m 69ms/step - loss: 2.1134e-04\n",
      "Epoch 46/75\n",
      "\u001b[1m322/322\u001b[0m \u001b[32m━━━━━━━━━━━━━━━━━━━━\u001b[0m\u001b[37m\u001b[0m \u001b[1m22s\u001b[0m 69ms/step - loss: 2.1219e-04\n",
      "Epoch 47/75\n",
      "\u001b[1m322/322\u001b[0m \u001b[32m━━━━━━━━━━━━━━━━━━━━\u001b[0m\u001b[37m\u001b[0m \u001b[1m23s\u001b[0m 71ms/step - loss: 2.1923e-04\n",
      "Epoch 48/75\n",
      "\u001b[1m322/322\u001b[0m \u001b[32m━━━━━━━━━━━━━━━━━━━━\u001b[0m\u001b[37m\u001b[0m \u001b[1m23s\u001b[0m 71ms/step - loss: 2.3134e-04\n",
      "Epoch 49/75\n",
      "\u001b[1m322/322\u001b[0m \u001b[32m━━━━━━━━━━━━━━━━━━━━\u001b[0m\u001b[37m\u001b[0m \u001b[1m24s\u001b[0m 73ms/step - loss: 2.1770e-04\n",
      "Epoch 50/75\n",
      "\u001b[1m322/322\u001b[0m \u001b[32m━━━━━━━━━━━━━━━━━━━━\u001b[0m\u001b[37m\u001b[0m \u001b[1m22s\u001b[0m 69ms/step - loss: 2.0652e-04\n",
      "Epoch 51/75\n",
      "\u001b[1m322/322\u001b[0m \u001b[32m━━━━━━━━━━━━━━━━━━━━\u001b[0m\u001b[37m\u001b[0m \u001b[1m23s\u001b[0m 71ms/step - loss: 2.1676e-04\n",
      "Epoch 52/75\n",
      "\u001b[1m322/322\u001b[0m \u001b[32m━━━━━━━━━━━━━━━━━━━━\u001b[0m\u001b[37m\u001b[0m \u001b[1m22s\u001b[0m 69ms/step - loss: 2.1103e-04\n",
      "Epoch 53/75\n",
      "\u001b[1m322/322\u001b[0m \u001b[32m━━━━━━━━━━━━━━━━━━━━\u001b[0m\u001b[37m\u001b[0m \u001b[1m22s\u001b[0m 68ms/step - loss: 2.0041e-04\n",
      "Epoch 54/75\n",
      "\u001b[1m322/322\u001b[0m \u001b[32m━━━━━━━━━━━━━━━━━━━━\u001b[0m\u001b[37m\u001b[0m \u001b[1m22s\u001b[0m 70ms/step - loss: 2.1669e-04\n",
      "Epoch 55/75\n",
      "\u001b[1m322/322\u001b[0m \u001b[32m━━━━━━━━━━━━━━━━━━━━\u001b[0m\u001b[37m\u001b[0m \u001b[1m22s\u001b[0m 70ms/step - loss: 2.0528e-04\n",
      "Epoch 56/75\n",
      "\u001b[1m322/322\u001b[0m \u001b[32m━━━━━━━━━━━━━━━━━━━━\u001b[0m\u001b[37m\u001b[0m \u001b[1m22s\u001b[0m 69ms/step - loss: 2.1891e-04\n",
      "Epoch 57/75\n",
      "\u001b[1m322/322\u001b[0m \u001b[32m━━━━━━━━━━━━━━━━━━━━\u001b[0m\u001b[37m\u001b[0m \u001b[1m22s\u001b[0m 69ms/step - loss: 2.0050e-04\n",
      "Epoch 58/75\n",
      "\u001b[1m322/322\u001b[0m \u001b[32m━━━━━━━━━━━━━━━━━━━━\u001b[0m\u001b[37m\u001b[0m \u001b[1m22s\u001b[0m 70ms/step - loss: 2.0675e-04\n",
      "Epoch 59/75\n",
      "\u001b[1m322/322\u001b[0m \u001b[32m━━━━━━━━━━━━━━━━━━━━\u001b[0m\u001b[37m\u001b[0m \u001b[1m23s\u001b[0m 70ms/step - loss: 2.2151e-04\n",
      "Epoch 60/75\n",
      "\u001b[1m322/322\u001b[0m \u001b[32m━━━━━━━━━━━━━━━━━━━━\u001b[0m\u001b[37m\u001b[0m \u001b[1m24s\u001b[0m 73ms/step - loss: 1.8768e-04\n",
      "Epoch 61/75\n",
      "\u001b[1m322/322\u001b[0m \u001b[32m━━━━━━━━━━━━━━━━━━━━\u001b[0m\u001b[37m\u001b[0m \u001b[1m22s\u001b[0m 69ms/step - loss: 2.1085e-04\n",
      "Epoch 62/75\n",
      "\u001b[1m322/322\u001b[0m \u001b[32m━━━━━━━━━━━━━━━━━━━━\u001b[0m\u001b[37m\u001b[0m \u001b[1m22s\u001b[0m 68ms/step - loss: 1.8490e-04\n",
      "Epoch 63/75\n",
      "\u001b[1m322/322\u001b[0m \u001b[32m━━━━━━━━━━━━━━━━━━━━\u001b[0m\u001b[37m\u001b[0m \u001b[1m41s\u001b[0m 69ms/step - loss: 1.7554e-04\n",
      "Epoch 64/75\n",
      "\u001b[1m322/322\u001b[0m \u001b[32m━━━━━━━━━━━━━━━━━━━━\u001b[0m\u001b[37m\u001b[0m \u001b[1m22s\u001b[0m 69ms/step - loss: 1.9586e-04\n",
      "Epoch 65/75\n",
      "\u001b[1m322/322\u001b[0m \u001b[32m━━━━━━━━━━━━━━━━━━━━\u001b[0m\u001b[37m\u001b[0m \u001b[1m22s\u001b[0m 70ms/step - loss: 1.7739e-04\n",
      "Epoch 66/75\n",
      "\u001b[1m322/322\u001b[0m \u001b[32m━━━━━━━━━━━━━━━━━━━━\u001b[0m\u001b[37m\u001b[0m \u001b[1m22s\u001b[0m 69ms/step - loss: 2.1925e-04\n",
      "Epoch 67/75\n",
      "\u001b[1m322/322\u001b[0m \u001b[32m━━━━━━━━━━━━━━━━━━━━\u001b[0m\u001b[37m\u001b[0m \u001b[1m22s\u001b[0m 69ms/step - loss: 2.0299e-04\n",
      "Epoch 68/75\n",
      "\u001b[1m322/322\u001b[0m \u001b[32m━━━━━━━━━━━━━━━━━━━━\u001b[0m\u001b[37m\u001b[0m \u001b[1m22s\u001b[0m 69ms/step - loss: 1.8613e-04\n",
      "Epoch 69/75\n",
      "\u001b[1m322/322\u001b[0m \u001b[32m━━━━━━━━━━━━━━━━━━━━\u001b[0m\u001b[37m\u001b[0m \u001b[1m22s\u001b[0m 70ms/step - loss: 2.1284e-04\n",
      "Epoch 70/75\n",
      "\u001b[1m322/322\u001b[0m \u001b[32m━━━━━━━━━━━━━━━━━━━━\u001b[0m\u001b[37m\u001b[0m \u001b[1m22s\u001b[0m 70ms/step - loss: 1.8447e-04\n",
      "Epoch 71/75\n",
      "\u001b[1m322/322\u001b[0m \u001b[32m━━━━━━━━━━━━━━━━━━━━\u001b[0m\u001b[37m\u001b[0m \u001b[1m23s\u001b[0m 71ms/step - loss: 2.3338e-04\n",
      "Epoch 72/75\n",
      "\u001b[1m322/322\u001b[0m \u001b[32m━━━━━━━━━━━━━━━━━━━━\u001b[0m\u001b[37m\u001b[0m \u001b[1m22s\u001b[0m 69ms/step - loss: 1.6966e-04\n",
      "Epoch 73/75\n",
      "\u001b[1m322/322\u001b[0m \u001b[32m━━━━━━━━━━━━━━━━━━━━\u001b[0m\u001b[37m\u001b[0m \u001b[1m22s\u001b[0m 69ms/step - loss: 1.8934e-04\n",
      "Epoch 74/75\n",
      "\u001b[1m322/322\u001b[0m \u001b[32m━━━━━━━━━━━━━━━━━━━━\u001b[0m\u001b[37m\u001b[0m \u001b[1m22s\u001b[0m 70ms/step - loss: 2.0645e-04\n",
      "Epoch 75/75\n",
      "\u001b[1m322/322\u001b[0m \u001b[32m━━━━━━━━━━━━━━━━━━━━\u001b[0m\u001b[37m\u001b[0m \u001b[1m23s\u001b[0m 71ms/step - loss: 2.0071e-04\n"
     ]
    },
    {
     "data": {
      "text/plain": [
       "<keras.src.callbacks.history.History at 0x14f6bb4d6d0>"
      ]
     },
     "execution_count": 56,
     "metadata": {},
     "output_type": "execute_result"
    }
   ],
   "source": [
    "import numpy as np\n",
    "import pandas as pd\n",
    "import matplotlib.pyplot as plt\n",
    "from sklearn.preprocessing import MinMaxScaler\n",
    "from tensorflow.keras.models import Sequential\n",
    "from tensorflow.keras.layers import LSTM, Dense, Dropout\n",
    "from tensorflow.keras.optimizers import Adam\n",
    "\n",
    "# Load the dataset again\n",
    "data = pd.read_csv('AAPL.csv')\n",
    "\n",
    "# Filter data for relevant columns\n",
    "data = data[['Date', 'Close']]\n",
    "\n",
    "# Convert Date column to datetime type\n",
    "data['Date'] = pd.to_datetime(data['Date'])\n",
    "\n",
    "# Set Date column as index\n",
    "data.set_index('Date', inplace=True)\n",
    "\n",
    "# Filter data for training (1980-2021) and evaluation (2022) periods\n",
    "train_data = data[:'2021']\n",
    "eval_data = data['2022-01-01':'2022-12-31']\n",
    "\n",
    "# Normalize the dataset\n",
    "scaler = MinMaxScaler(feature_range=(0, 1))\n",
    "train_scaled = scaler.fit_transform(train_data)\n",
    "\n",
    "# Function to create dataset for LSTM\n",
    "def create_dataset(data, look_back=1):\n",
    "    X, Y = [], []\n",
    "    for i in range(len(data)-look_back):\n",
    "        X.append(data[i:(i+look_back), 0])\n",
    "        Y.append(data[i + look_back, 0])\n",
    "    return np.array(X), np.array(Y)\n",
    "\n",
    "# Create the LSTM dataset\n",
    "look_back = 60 \n",
    "X_train, Y_train = create_dataset(train_scaled, look_back)\n",
    "\n",
    "# Reshape data for LSTM (samples, time steps, features)\n",
    "X_train = np.reshape(X_train, (X_train.shape[0], X_train.shape[1], 1))\n",
    "\n",
    "# Build LSTM model\n",
    "model = Sequential()\n",
    "model.add(LSTM(units=50, return_sequences=True, input_shape=(X_train.shape[1], 1)))\n",
    "model.add(Dropout(0.2))\n",
    "model.add(LSTM(units=50))\n",
    "model.add(Dropout(0.2))\n",
    "model.add(Dense(units=1))\n",
    "\n",
    "# Compile the model\n",
    "model.compile(optimizer=Adam(learning_rate=0.001), loss='mean_squared_error')\n",
    "\n",
    "# Train the model\n",
    "model.fit(X_train, Y_train, epochs=75, batch_size=32)\n"
   ]
  },
  {
   "cell_type": "markdown",
   "id": "09146baf",
   "metadata": {},
   "source": [
    "I used TensorFlow/Keras to build the LSTM model after preparing the training data. To avoid overfitting, the model is composed of 50-unit LSTM layers that are followed by dropout layers. The ultimate stock price prediction is made by the Dense layer, which has a single unit. \n",
    "\n",
    "I used the mean squared error loss function and the Adam optimizer to compile the model. I used a batch size of 32 and 75 epochs to train the model. The loss values at various epochs are listed below:\n",
    "\n",
    "- **Epoch 1**: 0.0028\n",
    "- **Epoch 10**: 2.4696e-04\n",
    "- **Epoch 20**: 3.0083e-04\n",
    "- **Epoch 30**: 1.9996e-04\n",
    "- **Epoch 40**: 2.0197e-04\n",
    "- **Epoch 50**: 2.0652e-04\n",
    "- **Epoch 60**: 1.8768e-04\n",
    "- **Epoch 70**: 1.8447e-04\n",
    "- **Epoch 75**: 2.0071e-04\n",
    "\n",
    "Among these, **Epoch 70** showed the lowest loss value of 1.8447e-04, indicating the best performance of the model during training.\n"
   ]
  },
  {
   "cell_type": "markdown",
   "id": "52db0568",
   "metadata": {},
   "source": [
    "### Normalizing the Evaluation Dataset\n"
   ]
  },
  {
   "cell_type": "code",
   "execution_count": 72,
   "id": "e546f47b",
   "metadata": {},
   "outputs": [],
   "source": [
    "# Normalize the evaluation dataset\n",
    "eval_scaled = scaler.transform(eval_data)\n"
   ]
  },
  {
   "cell_type": "code",
   "execution_count": 73,
   "id": "f2a51566",
   "metadata": {},
   "outputs": [],
   "source": [
    "# Create dataset for LSTM prediction \n",
    "X_eval, Y_eval = create_dataset(eval_scaled, look_back)\n",
    "\n",
    "# Reshape data for LSTM (samples, time steps, features)\n",
    "X_eval = np.reshape(X_eval, (X_eval.shape[0], X_eval.shape[1], 1))\n"
   ]
  },
  {
   "cell_type": "markdown",
   "id": "0ee768fa",
   "metadata": {},
   "source": [
    "I initially used the same MinMaxScaler fitted on the training data to normalize the evaluation dataset in order to assess the model's performance in predicting stock prices for the year 2022. By doing this, the scaling is guaranteed to be in line with the training phase.\n",
    "\n",
    "I then used a look-back period of 60 days to build sequences of previous data points **(X_eval)** and their matching next data point **(Y_eval)**. By using this method, the LSTM model can forecast the upcoming stock price by using data from the previous 60 days.\n",
    "\n",
    "In the end, I formatted the evaluation data **(X_eval)** so that each sample included 60 time steps and one feature, in accordance with the requirements of the LSTM model."
   ]
  },
  {
   "cell_type": "markdown",
   "id": "576d16f8",
   "metadata": {},
   "source": [
    "### Predicting Prices for 2022\n"
   ]
  },
  {
   "cell_type": "code",
   "execution_count": 74,
   "id": "e9685af3",
   "metadata": {
    "scrolled": true
   },
   "outputs": [
    {
     "name": "stdout",
     "output_type": "stream",
     "text": [
      "\u001b[1m2/2\u001b[0m \u001b[32m━━━━━━━━━━━━━━━━━━━━\u001b[0m\u001b[37m\u001b[0m \u001b[1m0s\u001b[0m 20ms/step\n"
     ]
    }
   ],
   "source": [
    "# Predict prices for 2022\n",
    "y_pred_2022 = model.predict(X_eval)"
   ]
  },
  {
   "cell_type": "markdown",
   "id": "1170f406",
   "metadata": {},
   "source": [
    "I projected Apple's stock prices for 2022 using the trained LSTM model. These predictions were produced by the model using the evaluation data **(X_eval)**. After analyzing the input data, the model generated the anticipated stock values for the given time frame.\n",
    "\n",
    "The model produced the output in a brief amount of time per step, resulting in efficient forecasts.\n"
   ]
  },
  {
   "cell_type": "markdown",
   "id": "bf1495ac",
   "metadata": {},
   "source": [
    "### Calculating RMSE for 2022 Predictions\n"
   ]
  },
  {
   "cell_type": "code",
   "execution_count": 75,
   "id": "6158bcfa",
   "metadata": {},
   "outputs": [
    {
     "name": "stdout",
     "output_type": "stream",
     "text": [
      "RMSE for 2022 Predictions: 0.024588634010284115\n"
     ]
    }
   ],
   "source": [
    "from sklearn.metrics import mean_squared_error\n",
    "import numpy as np\n",
    "\n",
    "# Assuming Y_eval is available\n",
    "# Calculate RMSE\n",
    "rmse_2022 = np.sqrt(mean_squared_error(Y_eval, y_pred_2022))\n",
    "print(f\"RMSE for 2022 Predictions: {rmse_2022}\")\n"
   ]
  },
  {
   "cell_type": "markdown",
   "id": "c665d6e7",
   "metadata": {},
   "source": [
    "I computed the Root Mean Squared Error (RMSE) in order to assess the model's performance for the 2022 projections. This measure aids in calculating the discrepancy between actual and expected stock values. Better prediction accuracy is shown by a lower RMSE value.\n",
    "\n",
    "\n",
    "The 2022 predictions' RMSE was determined to be **0.024588634010284115**, which shows that, on average, the predictions and actual stock prices were fairly similar."
   ]
  },
  {
   "cell_type": "markdown",
   "id": "c1d1c272",
   "metadata": {},
   "source": [
    "### Visualizing Actual vs. Predicted Prices for 2022"
   ]
  },
  {
   "cell_type": "code",
   "execution_count": 76,
   "id": "a51e5052",
   "metadata": {},
   "outputs": [
    {
     "data": {
      "image/png": "[encoded data removed]",
      "text/plain": [
       "<Figure size 1400x700 with 1 Axes>"
      ]
     },
     "metadata": {},
     "output_type": "display_data"
    }
   ],
   "source": [
    "# Plot actual vs predicted prices\n",
    "plt.figure(figsize=(14, 7))\n",
    "plt.plot(eval_data.index[-len(Y_eval):], Y_eval, color='blue', label='Actual Prices')\n",
    "plt.plot(eval_data.index[-len(y_pred_2022):], y_pred_2022, color='red', label='Predicted Prices')\n",
    "plt.title('Actual vs Predicted Prices for 2022')\n",
    "plt.xlabel('Date')\n",
    "plt.ylabel('Price')\n",
    "plt.legend()\n",
    "plt.show()\n"
   ]
  },
  {
   "cell_type": "markdown",
   "id": "14b2e4b6",
   "metadata": {},
   "source": [
    "I used a plotting tool to compare the real and expected prices of Apple's stock in 2022 to see how well the LSTM model performed. The degree to which the model's predictions agree with actual stock prices can be better understood thanks to this depiction."
   ]
  },
  {
   "cell_type": "markdown",
   "id": "b40e647a",
   "metadata": {},
   "source": [
    "### Analysis of the Findings\n",
    "The analysis of the findings involves evaluating the performance of the LSTM model in predicting Apple's stock prices and interpreting the results. Here is the analysis for this assignment:\n",
    "\n",
    "#### Model Performance Evaluation\n",
    "The stock values for 2021 and 2022 were predicted using the LSTM model, which was trained using Apple's historical stock price data spanning from 1980 to 2021. The Root Mean Squared Error (RMSE), which calculates the difference between actual and forecasted stock prices, was used to assess the model's performance.\n",
    "\n",
    "* **2021 Predictions:** The model's prediction of Apple's stock price in 2021 has an RMSE of around 15.89. This shows that the model's forecasts were generally off by about $15.89. Although this demonstrates a certain degree of accuracy, it may be better.\n",
    "\n",
    "* **2022 Predictions:** The model obtained an RMSE of roughly 0.0246 (normalized scale) for the 2022 predictions. The model may have performed better on the 2022 data because of the reduced RMSE, which could be the result of the model better capturing the underlying trends over the longer time frame.\n",
    "\n",
    "#### Visual Analysis\n",
    "The performance of the model can be shown by comparing the actual and projected prices for 2021 and 2022 visually. The graphs demonstrate how the expected prices typically follow the trend of the actual prices, suggesting that the LSTM model can accurately forecast how stock values change overall. Nonetheless, disparities do exist, particularly during volatile times, underscoring the difficulties in precisely projecting stock prices.\n",
    "\n",
    "#### Improvement Suggestions\n",
    "To further improve the model's performance, several strategies can be considered:\n",
    "\n",
    "* **Increase Model Complexity:** Experimenting with deeper or wider LSTM architectures to capture more intricate patterns in the data.\n",
    "* **Feature Engineering:** Including additional relevant features such as trading volume, market indices, or macroeconomic indicators.\n",
    "* **Hyperparameter Tuning:** Fine-tuning the hyperparameters like the number of epochs, batch size, learning rate, and dropout rates to optimize the model.\n",
    "* **Regularization Techniques:** Implementing regularization techniques such as L2 regularization or dropout to prevent overfitting.\n",
    "* **Ensemble Methods:** Combining predictions from multiple models (ensemble methods) to improve overall prediction accuracy."
   ]
  },
  {
   "cell_type": "markdown",
   "id": "7793a6e9",
   "metadata": {},
   "source": [
    "### Conclusion\n",
    "\n",
    "Using historical data from 1980 to 2021, I successfully constructed and trained an LSTM model for this project in order to predict the stock price of Apple Inc. By projecting stock prices for 2021 and 2022, the model's performance was assessed, with the Root Mean Squared Error (RMSE) acting as the main accuracy metric. The outcomes showed that, despite fluctuations during volatile times, the model could reasonably forecast stock prices. \n",
    "\n",
    "The LSTM model effectively captured the overall pattern of Apple's stock prices, as seen by the visual examination of the predictions. The model's performance did, however, point to several areas that needed work, like adding more features, adjusting hyperparameters, employing regularization strategies, and making the model more sophisticated. \n",
    "\n",
    "The present study underscored the potential of long short-term memory (LSTM) models in time series forecasting and stock price prediction. Additionally, it emphasized the necessity of ongoing model validation and improvement to attain superior accuracy and dependability.\n"
   ]
  },
  {
   "cell_type": "markdown",
   "id": "f9b843da",
   "metadata": {},
   "source": [
    "### References\n",
    "\n",
    "Roberts, C. (2023, November 23). Predictive analysis of Apple stock price using LSTM models. *Medium*. <br>\n",
    "&nbsp;&nbsp;&nbsp;&nbsp;&nbsp;https://medium.com/@mrconnor/predictive-analysis-of-apple-stock-price-using-lstm-models-b7625aa78e43\n",
    "\n",
    "Yıldırım, S. (2021, December 15). Predicting Apple Stock Prices with Neural Networks - Towards Data Science. *Medium*. <br>\n",
    "&nbsp;&nbsp;&nbsp;&nbsp;&nbsp;https://towardsdatascience.com/predicting-apple-stock-prices-with-neural-networks-4aefdf10afd0\n",
    "\n",
    "Shi, H., Yuan, G., Lu, Z., & Liang, Q. (2021). LSTM based model for Apple Inc stock price forecasting. In *2021 2nd International Conference on Computer <br>\n",
    "&nbsp;&nbsp;&nbsp;&nbsp;&nbsp;Science and Management Technology (ICCSMT)* (pp. 48-51). Shanghai, China. https://doi.org/10.1109/ICCSMT54525.2021.00017\n",
    "\n",
    "M, S. (2024, June 1). Stock Price Prediction using LSTM and its Implementation. *Analytics Vidhya*. <br>\n",
    "&nbsp;&nbsp;&nbsp;&nbsp;&nbsp;https://www.analyticsvidhya.com/blog/2021/12/stock-price-prediction-using-lstm/\n"
   ]
  }
 ],
 "metadata": {
  "kernelspec": {
   "display_name": "Python 3 (ipykernel)",
   "language": "python",
   "name": "python3"
  },
  "language_info": {
   "codemirror_mode": {
    "name": "ipython",
    "version": 3
   },
   "file_extension": ".py",
   "mimetype": "text/x-python",
   "name": "python",
   "nbconvert_exporter": "python",
   "pygments_lexer": "ipython3",
   "version": "3.11.7"
  }
 },
 "nbformat": 4,
 "nbformat_minor": 5
}
